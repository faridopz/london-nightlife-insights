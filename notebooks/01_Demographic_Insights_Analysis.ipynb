{
 "cells": [
  {
   "cell_type": "code",
   "execution_count": null,
   "metadata": {},
   "outputs": [],
   "source": [
    "# 🎟️ London Nightlife: Understanding Event Audiences through Data\n",
    "\n",
    "## Project Motivation\n",
    "\n",
    "During my time working closely with The Jazz Cafe, I noticed that every team meeting revolved around one key question:\n",
    "\n",
    "> “Who is our audience, and how can we enhance their experience?”\n",
    "\n",
    "This inspired me to explore how data can help venues better understand their crowd — who attends, how they attend (solo or in groups), and how their behavior varies across age and gender. I generated synthetic data using ChatGPT to simulate real London nightlife patterns, venues, and demographics.\n",
    "\n",
    "In this notebook, I extract key insights about ticket behavior and demographics that venues can use to improve programming, marketing, and customer experience strategies.\n",
    "\n",
    "\n",
    "\n"
   ]
  },
  {
   "cell_type": "markdown",
   "metadata": {},
   "source": [
    "## 📊 1. Average Tickets per Purchase by Age Group and Gender\n",
    "\n",
    "**🧠 Insight:**  \n",
    "Ticket purchasing behavior is relatively consistent across age and gender groups, averaging just over 2.5 tickets per transaction.\n",
    "\n",
    "**💡 Why it matters:**  \n",
    "This suggests that group size during bookings is stable. It supports the idea that ticket bundle strategies can be applied broadly, without complex segmentation.\n",
    "\n",
    "avg_tickets = pd.read_csv(\"../outputs/avg_tickets_per_purchase_demo.csv\")\n",
    "\n",
    "plt.figure(figsize=(10, 6))\n",
    "sns.barplot(data=avg_tickets, x='Age_Group', y='Quantity', hue='Gender')\n",
    "plt.title(\"Average Tickets per Purchase by Age Group & Gender\")\n",
    "plt.ylabel(\"Average Tickets\")\n",
    "plt.xlabel(\"Age Group\")\n",
    "plt.legend(title='Gender')\n",
    "plt.tight_layout()\n",
    "plt.show()\n",
    "\n",
    "\n"
   ]
  },
  {
   "cell_type": "markdown",
   "metadata": {},
   "source": [
    "## 🎶 2. Genre Popularity by Age Group\n",
    "\n",
    "**🧠 Insight:**  \n",
    "Techno and House dominate among the 25–44 age group. Very low engagement from users under 18 or over 55.\n",
    "\n",
    "**💡 Why it matters:**  \n",
    "This guides curators, DJs, and marketers on what genres resonate most with different age segments. Techno's dominance can drive age-specific lineups or promotions.\n",
    "\n",
    "from PIL import Image\n",
    "from IPython.display import display\n",
    "\n",
    "img_path = \"../visuals/genre_popularity_by_agegroup.png\"\n",
    "if os.path.exists(img_path):\n",
    "    display(Image.open(img_path))\n",
    "else:\n",
    "    print(\"Image not found.\")\n"
   ]
  },
  {
   "cell_type": "markdown",
   "metadata": {},
   "source": [
    "## 🏟️ 3. Ticket Sales by Age Group & Gender across Venues\n",
    "\n",
    "**🧠 Insight:**  \n",
    "Shoreditch Warehouse and Phonox attract the highest ticket sales from the 25–44 demographic. Older age groups contribute less.\n",
    "\n",
    "**💡 Why it matters:**  \n",
    "Helps venues focus resources on their core audience and develop initiatives to grow underrepresented segments.\n",
    "\n",
    "img_path = \"../visuals/venue_ticket_sales_heatmap.png\"\n",
    "if os.path.exists(img_path):\n",
    "    display(Image.open(img_path))\n",
    "else:\n",
    "    print(\"Image not found.\")\n"
   ]
  },
  {
   "cell_type": "markdown",
   "metadata": {},
   "source": [
    "## 🧍 4. Solo Attendance Rate by Demographic\n",
    "\n",
    "**🧠 Insight:**  \n",
    "Certain age and gender groups are more likely to attend events alone. These patterns can help venues craft loyalty offers or “+1” ticket deals.\n",
    "\n",
    "**💡 Why it matters:**  \n",
    "Solo attendees might appreciate incentives (e.g., free ticket for bringing a friend next time), helping boost future turnout and brand loyalty.\n",
    "\n",
    "img_path = \"../visuals/solo_attendance_rate.png\"\n",
    "if os.path.exists(img_path):\n",
    "    display(Image.open(img_path))\n",
    "else:\n",
    "    print(\"Image not found.\")\n"
   ]
  },
  {
   "cell_type": "markdown",
   "metadata": {},
   "source": [
    "## 📈 Summary & Applications\n",
    "\n",
    "This project showcases how event venues can use demographic data to:\n",
    "\n",
    "- Personalize marketing by genre preferences and age\n",
    "- Understand solo vs. group attendance patterns\n",
    "- Offer targeted incentives (e.g., group drink offers or bring-a-friend deals)\n",
    "- Optimize event lineups for core age segments\n",
    "\n",
    "These insights, even with synthetic data, reflect real challenges discussed during live venue operations — and show how data-driven thinking can help solve them.\n",
    "\n",
    "---\n",
    "\n",
    "✅ All visualizations and CSV summaries were generated via Python scripts (`insights_generator.py`, `insights_visuals.py`).\n",
    "\n",
    "🧪 Data was created artificially to reflect realistic East London nightlife patterns.\n"
   ]
  }
 ],
 "metadata": {
  "language_info": {
   "name": "python"
  }
 },
 "nbformat": 4,
 "nbformat_minor": 2
}
